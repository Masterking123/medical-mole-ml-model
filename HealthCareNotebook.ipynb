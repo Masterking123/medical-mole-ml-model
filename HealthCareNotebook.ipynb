{
 "cells": [
  {
   "cell_type": "code",
   "execution_count": 1,
   "id": "57092b71-0e3c-458f-9d2b-ff13a06749d1",
   "metadata": {},
   "outputs": [
    {
     "name": "stderr",
     "output_type": "stream",
     "text": [
      "/Users/panththaker/Projects/JupyterNotebooks/tfvenv/lib/python3.13/site-packages/google/protobuf/runtime_version.py:98: UserWarning: Protobuf gencode version 5.28.3 is exactly one major version older than the runtime version 6.31.1 at tensorflow/core/framework/attr_value.proto. Please update the gencode to avoid compatibility violations in the next runtime release.\n",
      "  warnings.warn(\n",
      "/Users/panththaker/Projects/JupyterNotebooks/tfvenv/lib/python3.13/site-packages/google/protobuf/runtime_version.py:98: UserWarning: Protobuf gencode version 5.28.3 is exactly one major version older than the runtime version 6.31.1 at tensorflow/core/framework/tensor.proto. Please update the gencode to avoid compatibility violations in the next runtime release.\n",
      "  warnings.warn(\n",
      "/Users/panththaker/Projects/JupyterNotebooks/tfvenv/lib/python3.13/site-packages/google/protobuf/runtime_version.py:98: UserWarning: Protobuf gencode version 5.28.3 is exactly one major version older than the runtime version 6.31.1 at tensorflow/core/framework/resource_handle.proto. Please update the gencode to avoid compatibility violations in the next runtime release.\n",
      "  warnings.warn(\n",
      "/Users/panththaker/Projects/JupyterNotebooks/tfvenv/lib/python3.13/site-packages/google/protobuf/runtime_version.py:98: UserWarning: Protobuf gencode version 5.28.3 is exactly one major version older than the runtime version 6.31.1 at tensorflow/core/framework/tensor_shape.proto. Please update the gencode to avoid compatibility violations in the next runtime release.\n",
      "  warnings.warn(\n",
      "/Users/panththaker/Projects/JupyterNotebooks/tfvenv/lib/python3.13/site-packages/google/protobuf/runtime_version.py:98: UserWarning: Protobuf gencode version 5.28.3 is exactly one major version older than the runtime version 6.31.1 at tensorflow/core/framework/types.proto. Please update the gencode to avoid compatibility violations in the next runtime release.\n",
      "  warnings.warn(\n",
      "/Users/panththaker/Projects/JupyterNotebooks/tfvenv/lib/python3.13/site-packages/google/protobuf/runtime_version.py:98: UserWarning: Protobuf gencode version 5.28.3 is exactly one major version older than the runtime version 6.31.1 at tensorflow/core/framework/full_type.proto. Please update the gencode to avoid compatibility violations in the next runtime release.\n",
      "  warnings.warn(\n",
      "/Users/panththaker/Projects/JupyterNotebooks/tfvenv/lib/python3.13/site-packages/google/protobuf/runtime_version.py:98: UserWarning: Protobuf gencode version 5.28.3 is exactly one major version older than the runtime version 6.31.1 at tensorflow/core/framework/function.proto. Please update the gencode to avoid compatibility violations in the next runtime release.\n",
      "  warnings.warn(\n",
      "/Users/panththaker/Projects/JupyterNotebooks/tfvenv/lib/python3.13/site-packages/google/protobuf/runtime_version.py:98: UserWarning: Protobuf gencode version 5.28.3 is exactly one major version older than the runtime version 6.31.1 at tensorflow/core/framework/node_def.proto. Please update the gencode to avoid compatibility violations in the next runtime release.\n",
      "  warnings.warn(\n",
      "/Users/panththaker/Projects/JupyterNotebooks/tfvenv/lib/python3.13/site-packages/google/protobuf/runtime_version.py:98: UserWarning: Protobuf gencode version 5.28.3 is exactly one major version older than the runtime version 6.31.1 at tensorflow/core/framework/op_def.proto. Please update the gencode to avoid compatibility violations in the next runtime release.\n",
      "  warnings.warn(\n",
      "/Users/panththaker/Projects/JupyterNotebooks/tfvenv/lib/python3.13/site-packages/google/protobuf/runtime_version.py:98: UserWarning: Protobuf gencode version 5.28.3 is exactly one major version older than the runtime version 6.31.1 at tensorflow/core/framework/graph.proto. Please update the gencode to avoid compatibility violations in the next runtime release.\n",
      "  warnings.warn(\n",
      "/Users/panththaker/Projects/JupyterNotebooks/tfvenv/lib/python3.13/site-packages/google/protobuf/runtime_version.py:98: UserWarning: Protobuf gencode version 5.28.3 is exactly one major version older than the runtime version 6.31.1 at tensorflow/core/framework/graph_debug_info.proto. Please update the gencode to avoid compatibility violations in the next runtime release.\n",
      "  warnings.warn(\n",
      "/Users/panththaker/Projects/JupyterNotebooks/tfvenv/lib/python3.13/site-packages/google/protobuf/runtime_version.py:98: UserWarning: Protobuf gencode version 5.28.3 is exactly one major version older than the runtime version 6.31.1 at tensorflow/core/framework/versions.proto. Please update the gencode to avoid compatibility violations in the next runtime release.\n",
      "  warnings.warn(\n",
      "/Users/panththaker/Projects/JupyterNotebooks/tfvenv/lib/python3.13/site-packages/google/protobuf/runtime_version.py:98: UserWarning: Protobuf gencode version 5.28.3 is exactly one major version older than the runtime version 6.31.1 at tensorflow/core/protobuf/config.proto. Please update the gencode to avoid compatibility violations in the next runtime release.\n",
      "  warnings.warn(\n",
      "/Users/panththaker/Projects/JupyterNotebooks/tfvenv/lib/python3.13/site-packages/google/protobuf/runtime_version.py:98: UserWarning: Protobuf gencode version 5.28.3 is exactly one major version older than the runtime version 6.31.1 at xla/tsl/protobuf/coordination_config.proto. Please update the gencode to avoid compatibility violations in the next runtime release.\n",
      "  warnings.warn(\n",
      "/Users/panththaker/Projects/JupyterNotebooks/tfvenv/lib/python3.13/site-packages/google/protobuf/runtime_version.py:98: UserWarning: Protobuf gencode version 5.28.3 is exactly one major version older than the runtime version 6.31.1 at tensorflow/core/framework/cost_graph.proto. Please update the gencode to avoid compatibility violations in the next runtime release.\n",
      "  warnings.warn(\n",
      "/Users/panththaker/Projects/JupyterNotebooks/tfvenv/lib/python3.13/site-packages/google/protobuf/runtime_version.py:98: UserWarning: Protobuf gencode version 5.28.3 is exactly one major version older than the runtime version 6.31.1 at tensorflow/core/framework/step_stats.proto. Please update the gencode to avoid compatibility violations in the next runtime release.\n",
      "  warnings.warn(\n",
      "/Users/panththaker/Projects/JupyterNotebooks/tfvenv/lib/python3.13/site-packages/google/protobuf/runtime_version.py:98: UserWarning: Protobuf gencode version 5.28.3 is exactly one major version older than the runtime version 6.31.1 at tensorflow/core/framework/allocation_description.proto. Please update the gencode to avoid compatibility violations in the next runtime release.\n",
      "  warnings.warn(\n",
      "/Users/panththaker/Projects/JupyterNotebooks/tfvenv/lib/python3.13/site-packages/google/protobuf/runtime_version.py:98: UserWarning: Protobuf gencode version 5.28.3 is exactly one major version older than the runtime version 6.31.1 at tensorflow/core/framework/tensor_description.proto. Please update the gencode to avoid compatibility violations in the next runtime release.\n",
      "  warnings.warn(\n",
      "/Users/panththaker/Projects/JupyterNotebooks/tfvenv/lib/python3.13/site-packages/google/protobuf/runtime_version.py:98: UserWarning: Protobuf gencode version 5.28.3 is exactly one major version older than the runtime version 6.31.1 at tensorflow/core/protobuf/cluster.proto. Please update the gencode to avoid compatibility violations in the next runtime release.\n",
      "  warnings.warn(\n",
      "/Users/panththaker/Projects/JupyterNotebooks/tfvenv/lib/python3.13/site-packages/google/protobuf/runtime_version.py:98: UserWarning: Protobuf gencode version 5.28.3 is exactly one major version older than the runtime version 6.31.1 at tensorflow/core/protobuf/debug.proto. Please update the gencode to avoid compatibility violations in the next runtime release.\n",
      "  warnings.warn(\n"
     ]
    }
   ],
   "source": [
    "import numpy as np\n",
    "import seaborn as sns\n",
    "import matplotlib.pyplot as plt\n",
    "import pandas as pd\n",
    "import tensorflow\n",
    "import torch\n",
    "from torch import nn\n",
    "import torchmetrics"
   ]
  },
  {
   "cell_type": "code",
   "execution_count": 2,
   "id": "d4eb7499-6ee2-458f-b948-c3c3e270534d",
   "metadata": {},
   "outputs": [
    {
     "data": {
      "text/html": [
       "<div>\n",
       "<style scoped>\n",
       "    .dataframe tbody tr th:only-of-type {\n",
       "        vertical-align: middle;\n",
       "    }\n",
       "\n",
       "    .dataframe tbody tr th {\n",
       "        vertical-align: top;\n",
       "    }\n",
       "\n",
       "    .dataframe thead th {\n",
       "        text-align: right;\n",
       "    }\n",
       "</style>\n",
       "<table border=\"1\" class=\"dataframe\">\n",
       "  <thead>\n",
       "    <tr style=\"text-align: right;\">\n",
       "      <th></th>\n",
       "      <th>Disease</th>\n",
       "      <th>Symptom_1</th>\n",
       "      <th>Symptom_2</th>\n",
       "      <th>Symptom_3</th>\n",
       "      <th>Symptom_4</th>\n",
       "      <th>Symptom_5</th>\n",
       "      <th>Symptom_6</th>\n",
       "      <th>Symptom_7</th>\n",
       "      <th>Symptom_8</th>\n",
       "      <th>Symptom_9</th>\n",
       "      <th>Symptom_10</th>\n",
       "      <th>Symptom_11</th>\n",
       "      <th>Symptom_12</th>\n",
       "      <th>Symptom_13</th>\n",
       "      <th>Symptom_14</th>\n",
       "      <th>Symptom_15</th>\n",
       "      <th>Symptom_16</th>\n",
       "      <th>Symptom_17</th>\n",
       "    </tr>\n",
       "  </thead>\n",
       "  <tbody>\n",
       "    <tr>\n",
       "      <th>0</th>\n",
       "      <td>Fungal infection</td>\n",
       "      <td>itching</td>\n",
       "      <td>skin_rash</td>\n",
       "      <td>nodal_skin_eruptions</td>\n",
       "      <td>dischromic _patches</td>\n",
       "      <td>NaN</td>\n",
       "      <td>NaN</td>\n",
       "      <td>NaN</td>\n",
       "      <td>NaN</td>\n",
       "      <td>NaN</td>\n",
       "      <td>NaN</td>\n",
       "      <td>NaN</td>\n",
       "      <td>NaN</td>\n",
       "      <td>NaN</td>\n",
       "      <td>NaN</td>\n",
       "      <td>NaN</td>\n",
       "      <td>NaN</td>\n",
       "      <td>NaN</td>\n",
       "    </tr>\n",
       "    <tr>\n",
       "      <th>1</th>\n",
       "      <td>Fungal infection</td>\n",
       "      <td>skin_rash</td>\n",
       "      <td>nodal_skin_eruptions</td>\n",
       "      <td>dischromic _patches</td>\n",
       "      <td>NaN</td>\n",
       "      <td>NaN</td>\n",
       "      <td>NaN</td>\n",
       "      <td>NaN</td>\n",
       "      <td>NaN</td>\n",
       "      <td>NaN</td>\n",
       "      <td>NaN</td>\n",
       "      <td>NaN</td>\n",
       "      <td>NaN</td>\n",
       "      <td>NaN</td>\n",
       "      <td>NaN</td>\n",
       "      <td>NaN</td>\n",
       "      <td>NaN</td>\n",
       "      <td>NaN</td>\n",
       "    </tr>\n",
       "    <tr>\n",
       "      <th>2</th>\n",
       "      <td>Fungal infection</td>\n",
       "      <td>itching</td>\n",
       "      <td>nodal_skin_eruptions</td>\n",
       "      <td>dischromic _patches</td>\n",
       "      <td>NaN</td>\n",
       "      <td>NaN</td>\n",
       "      <td>NaN</td>\n",
       "      <td>NaN</td>\n",
       "      <td>NaN</td>\n",
       "      <td>NaN</td>\n",
       "      <td>NaN</td>\n",
       "      <td>NaN</td>\n",
       "      <td>NaN</td>\n",
       "      <td>NaN</td>\n",
       "      <td>NaN</td>\n",
       "      <td>NaN</td>\n",
       "      <td>NaN</td>\n",
       "      <td>NaN</td>\n",
       "    </tr>\n",
       "    <tr>\n",
       "      <th>3</th>\n",
       "      <td>Fungal infection</td>\n",
       "      <td>itching</td>\n",
       "      <td>skin_rash</td>\n",
       "      <td>dischromic _patches</td>\n",
       "      <td>NaN</td>\n",
       "      <td>NaN</td>\n",
       "      <td>NaN</td>\n",
       "      <td>NaN</td>\n",
       "      <td>NaN</td>\n",
       "      <td>NaN</td>\n",
       "      <td>NaN</td>\n",
       "      <td>NaN</td>\n",
       "      <td>NaN</td>\n",
       "      <td>NaN</td>\n",
       "      <td>NaN</td>\n",
       "      <td>NaN</td>\n",
       "      <td>NaN</td>\n",
       "      <td>NaN</td>\n",
       "    </tr>\n",
       "    <tr>\n",
       "      <th>4</th>\n",
       "      <td>Fungal infection</td>\n",
       "      <td>itching</td>\n",
       "      <td>skin_rash</td>\n",
       "      <td>nodal_skin_eruptions</td>\n",
       "      <td>NaN</td>\n",
       "      <td>NaN</td>\n",
       "      <td>NaN</td>\n",
       "      <td>NaN</td>\n",
       "      <td>NaN</td>\n",
       "      <td>NaN</td>\n",
       "      <td>NaN</td>\n",
       "      <td>NaN</td>\n",
       "      <td>NaN</td>\n",
       "      <td>NaN</td>\n",
       "      <td>NaN</td>\n",
       "      <td>NaN</td>\n",
       "      <td>NaN</td>\n",
       "      <td>NaN</td>\n",
       "    </tr>\n",
       "  </tbody>\n",
       "</table>\n",
       "</div>"
      ],
      "text/plain": [
       "            Disease   Symptom_1              Symptom_2              Symptom_3  \\\n",
       "0  Fungal infection     itching              skin_rash   nodal_skin_eruptions   \n",
       "1  Fungal infection   skin_rash   nodal_skin_eruptions    dischromic _patches   \n",
       "2  Fungal infection     itching   nodal_skin_eruptions    dischromic _patches   \n",
       "3  Fungal infection     itching              skin_rash    dischromic _patches   \n",
       "4  Fungal infection     itching              skin_rash   nodal_skin_eruptions   \n",
       "\n",
       "              Symptom_4 Symptom_5 Symptom_6 Symptom_7 Symptom_8 Symptom_9  \\\n",
       "0   dischromic _patches       NaN       NaN       NaN       NaN       NaN   \n",
       "1                   NaN       NaN       NaN       NaN       NaN       NaN   \n",
       "2                   NaN       NaN       NaN       NaN       NaN       NaN   \n",
       "3                   NaN       NaN       NaN       NaN       NaN       NaN   \n",
       "4                   NaN       NaN       NaN       NaN       NaN       NaN   \n",
       "\n",
       "  Symptom_10 Symptom_11 Symptom_12 Symptom_13 Symptom_14 Symptom_15  \\\n",
       "0        NaN        NaN        NaN        NaN        NaN        NaN   \n",
       "1        NaN        NaN        NaN        NaN        NaN        NaN   \n",
       "2        NaN        NaN        NaN        NaN        NaN        NaN   \n",
       "3        NaN        NaN        NaN        NaN        NaN        NaN   \n",
       "4        NaN        NaN        NaN        NaN        NaN        NaN   \n",
       "\n",
       "  Symptom_16 Symptom_17  \n",
       "0        NaN        NaN  \n",
       "1        NaN        NaN  \n",
       "2        NaN        NaN  \n",
       "3        NaN        NaN  \n",
       "4        NaN        NaN  "
      ]
     },
     "execution_count": 2,
     "metadata": {},
     "output_type": "execute_result"
    }
   ],
   "source": [
    "disease_data = pd.read_csv(\"data/DiseaseAndSymptoms.csv\")\n",
    "disease_data.head()"
   ]
  },
  {
   "cell_type": "code",
   "execution_count": 3,
   "id": "46ad0dc8-6dee-49d3-9040-38b714ede6f8",
   "metadata": {},
   "outputs": [
    {
     "data": {
      "text/plain": [
       "['Fungal infection', 'Allergy', 'GERD', 'Chronic cholestasis', 'Drug Reaction']"
      ]
     },
     "execution_count": 3,
     "metadata": {},
     "output_type": "execute_result"
    }
   ],
   "source": [
    "diseases = disease_data.Disease.unique().tolist()\n",
    "diseases[:5]"
   ]
  },
  {
   "cell_type": "code",
   "execution_count": 4,
   "id": "7926c058-6a71-4a26-8987-3a73fe74c282",
   "metadata": {},
   "outputs": [
    {
     "name": "stdout",
     "output_type": "stream",
     "text": [
      "['abdominal_pain', 'abnormal_menstruation', 'acidity', 'acute_liver_failure', 'altered_sensorium']\n"
     ]
    }
   ],
   "source": [
    "symptoms_set = set()\n",
    "\n",
    "# Iterate through each symptom column (except first column 'Disease')\n",
    "for col in disease_data.columns[1:]:\n",
    "\n",
    "    col_values = disease_data[col].tolist()\n",
    "\n",
    "    for val in col_values:\n",
    "        if pd.notna(val):\n",
    "            stripped_val = val.strip()\n",
    "            symptoms_set.add(stripped_val)\n",
    "\n",
    "symptoms = list(symptoms_set)\n",
    "symptoms.sort()\n",
    "\n",
    "print(symptoms[:5])"
   ]
  },
  {
   "cell_type": "code",
   "execution_count": 5,
   "id": "09974ed0-70d6-46e3-9dcf-9c5ffacf30ff",
   "metadata": {},
   "outputs": [
    {
     "name": "stdout",
     "output_type": "stream",
     "text": [
      "Number of Diseases: 41\n",
      "Number of Unique Symptoms: 131\n"
     ]
    }
   ],
   "source": [
    "print(f\"Number of Diseases: {len(diseases)}\\nNumber of Unique Symptoms: {len(symptoms)}\")"
   ]
  },
  {
   "cell_type": "code",
   "execution_count": 6,
   "id": "50c83ca4-cc7e-4080-8577-e2c478eebe7a",
   "metadata": {},
   "outputs": [
    {
     "name": "stdout",
     "output_type": "stream",
     "text": [
      "{'Fungal infection': 0, 'Allergy': 1, 'GERD': 2, 'Chronic cholestasis': 3, 'Drug Reaction': 4, 'Peptic ulcer diseae': 5, 'AIDS': 6, 'Diabetes ': 7, 'Gastroenteritis': 8, 'Bronchial Asthma': 9, 'Hypertension ': 10, 'Migraine': 11, 'Cervical spondylosis': 12, 'Paralysis (brain hemorrhage)': 13, 'Jaundice': 14, 'Malaria': 15, 'Chicken pox': 16, 'Dengue': 17, 'Typhoid': 18, 'hepatitis A': 19, 'Hepatitis B': 20, 'Hepatitis C': 21, 'Hepatitis D': 22, 'Hepatitis E': 23, 'Alcoholic hepatitis': 24, 'Tuberculosis': 25, 'Common Cold': 26, 'Pneumonia': 27, 'Dimorphic hemmorhoids(piles)': 28, 'Heart attack': 29, 'Varicose veins': 30, 'Hypothyroidism': 31, 'Hyperthyroidism': 32, 'Hypoglycemia': 33, 'Osteoarthristis': 34, 'Arthritis': 35, '(vertigo) Paroymsal  Positional Vertigo': 36, 'Acne': 37, 'Urinary tract infection': 38, 'Psoriasis': 39, 'Impetigo': 40}\n"
     ]
    }
   ],
   "source": [
    "disease_indexes = {diseases[i]: i for i in range(len(diseases))}\n",
    "print(disease_indexes)"
   ]
  },
  {
   "cell_type": "code",
   "execution_count": 7,
   "id": "ad73d942-d7fd-4dcd-81cc-8356f1201fd4",
   "metadata": {},
   "outputs": [
    {
     "name": "stdout",
     "output_type": "stream",
     "text": [
      "{'abdominal_pain': 0, 'abnormal_menstruation': 1, 'acidity': 2, 'acute_liver_failure': 3, 'altered_sensorium': 4, 'anxiety': 5, 'back_pain': 6, 'belly_pain': 7, 'blackheads': 8, 'bladder_discomfort': 9, 'blister': 10, 'blood_in_sputum': 11, 'bloody_stool': 12, 'blurred_and_distorted_vision': 13, 'breathlessness': 14, 'brittle_nails': 15, 'bruising': 16, 'burning_micturition': 17, 'chest_pain': 18, 'chills': 19, 'cold_hands_and_feets': 20, 'coma': 21, 'congestion': 22, 'constipation': 23, 'continuous_feel_of_urine': 24, 'continuous_sneezing': 25, 'cough': 26, 'cramps': 27, 'dark_urine': 28, 'dehydration': 29, 'depression': 30, 'diarrhoea': 31, 'dischromic _patches': 32, 'distention_of_abdomen': 33, 'dizziness': 34, 'drying_and_tingling_lips': 35, 'enlarged_thyroid': 36, 'excessive_hunger': 37, 'extra_marital_contacts': 38, 'family_history': 39, 'fast_heart_rate': 40, 'fatigue': 41, 'fluid_overload': 42, 'foul_smell_of urine': 43, 'headache': 44, 'high_fever': 45, 'hip_joint_pain': 46, 'history_of_alcohol_consumption': 47, 'increased_appetite': 48, 'indigestion': 49, 'inflammatory_nails': 50, 'internal_itching': 51, 'irregular_sugar_level': 52, 'irritability': 53, 'irritation_in_anus': 54, 'itching': 55, 'joint_pain': 56, 'knee_pain': 57, 'lack_of_concentration': 58, 'lethargy': 59, 'loss_of_appetite': 60, 'loss_of_balance': 61, 'loss_of_smell': 62, 'malaise': 63, 'mild_fever': 64, 'mood_swings': 65, 'movement_stiffness': 66, 'mucoid_sputum': 67, 'muscle_pain': 68, 'muscle_wasting': 69, 'muscle_weakness': 70, 'nausea': 71, 'neck_pain': 72, 'nodal_skin_eruptions': 73, 'obesity': 74, 'pain_behind_the_eyes': 75, 'pain_during_bowel_movements': 76, 'pain_in_anal_region': 77, 'painful_walking': 78, 'palpitations': 79, 'passage_of_gases': 80, 'patches_in_throat': 81, 'phlegm': 82, 'polyuria': 83, 'prominent_veins_on_calf': 84, 'puffy_face_and_eyes': 85, 'pus_filled_pimples': 86, 'receiving_blood_transfusion': 87, 'receiving_unsterile_injections': 88, 'red_sore_around_nose': 89, 'red_spots_over_body': 90, 'redness_of_eyes': 91, 'restlessness': 92, 'runny_nose': 93, 'rusty_sputum': 94, 'scurring': 95, 'shivering': 96, 'silver_like_dusting': 97, 'sinus_pressure': 98, 'skin_peeling': 99, 'skin_rash': 100, 'slurred_speech': 101, 'small_dents_in_nails': 102, 'spinning_movements': 103, 'spotting_ urination': 104, 'stiff_neck': 105, 'stomach_bleeding': 106, 'stomach_pain': 107, 'sunken_eyes': 108, 'sweating': 109, 'swelled_lymph_nodes': 110, 'swelling_joints': 111, 'swelling_of_stomach': 112, 'swollen_blood_vessels': 113, 'swollen_extremeties': 114, 'swollen_legs': 115, 'throat_irritation': 116, 'toxic_look_(typhos)': 117, 'ulcers_on_tongue': 118, 'unsteadiness': 119, 'visual_disturbances': 120, 'vomiting': 121, 'watering_from_eyes': 122, 'weakness_in_limbs': 123, 'weakness_of_one_body_side': 124, 'weight_gain': 125, 'weight_loss': 126, 'yellow_crust_ooze': 127, 'yellow_urine': 128, 'yellowing_of_eyes': 129, 'yellowish_skin': 130}\n"
     ]
    }
   ],
   "source": [
    "symptom_indexes = {symptoms[i]: i for i in range(len(symptoms))}\n",
    "print(symptom_indexes)"
   ]
  },
  {
   "cell_type": "code",
   "execution_count": 8,
   "id": "d522cbfa-2cc4-443f-8848-35da562dab57",
   "metadata": {},
   "outputs": [],
   "source": [
    "patient_dataset = []\n",
    "label_dataset = []\n",
    "\n",
    "for i, row in disease_data.iterrows():\n",
    "    # Initialize zero vectors for symptoms and diseases\n",
    "    patient_symptoms = np.zeros(len(symptoms), dtype=np.float32)\n",
    "    patient_label = np.zeros(len(diseases), dtype=np.float32)\n",
    "\n",
    "    # Mark the disease label as one-hot\n",
    "    disease = row['Disease']  # disease is in first column\n",
    "    patient_label[disease_indexes[disease]] = 1.0\n",
    "\n",
    "    # Iterate through symptom columns (all except Disease column)\n",
    "    for col in disease_data.columns[1:]:\n",
    "        symptom = row[col]\n",
    "        if pd.isna(symptom):\n",
    "            # Stop if symptom is NaN (no more symptoms)\n",
    "            break\n",
    "        else:\n",
    "            symptom = symptom.strip()  # just in case\n",
    "            patient_symptoms[symptom_indexes[symptom]] = 1.0\n",
    "\n",
    "    # Append to dataset lists\n",
    "    patient_dataset.append(patient_symptoms)\n",
    "    label_dataset.append(patient_label)"
   ]
  },
  {
   "cell_type": "code",
   "execution_count": 9,
   "id": "9e172242-0b04-4784-aa37-f87831706679",
   "metadata": {},
   "outputs": [],
   "source": [
    "data = torch.tensor(np.array(patient_dataset), dtype=torch.float32)\n",
    "labels = torch.tensor(np.array(label_dataset), dtype=torch.float32)"
   ]
  },
  {
   "cell_type": "code",
   "execution_count": 10,
   "id": "d82952af-c1f9-4f8a-aa77-024ac8090663",
   "metadata": {},
   "outputs": [],
   "source": [
    "class SymptomClassifier(nn.Module):\n",
    "    def __init__(self, input_size, num_classes):\n",
    "        super().__init__()\n",
    "        self.model = nn.Sequential(\n",
    "            nn.Linear(input_size, 128),\n",
    "            nn.ReLU(),\n",
    "            nn.Linear(128, 64),\n",
    "            nn.ReLU(),\n",
    "            nn.Linear(64, num_classes)\n",
    "        )\n",
    "    def forward(self, input):\n",
    "        return self.model(input)"
   ]
  },
  {
   "cell_type": "code",
   "execution_count": 11,
   "id": "a068ade8-10cf-497c-b828-9137bca5e01f",
   "metadata": {},
   "outputs": [],
   "source": [
    "torch.manual_seed(42)\n",
    "np.random.seed(42)\n",
    "\n",
    "indexes = np.arange(0, len(data), 1)\n",
    "np.random.shuffle(indexes)\n",
    "\n",
    "split = int(0.8 * len(data))\n",
    "X_train, y_train = data[indexes[:split]], labels[indexes[:split]]\n",
    "X_test, y_test = data[indexes[split:]], labels[indexes[split:]]\n"
   ]
  },
  {
   "cell_type": "code",
   "execution_count": 12,
   "id": "717ca155-aecc-4d62-b610-59375db34b89",
   "metadata": {},
   "outputs": [],
   "source": [
    "classifier = SymptomClassifier(data.shape[-1], labels.shape[-1])\n",
    "\n",
    "loss_fn = nn.CrossEntropyLoss()\n",
    "optimizer = torch.optim.SGD(classifier.parameters(), lr=0.1)\n",
    "accuracy_fn = torchmetrics.Accuracy(task='multiclass', num_classes=41)"
   ]
  },
  {
   "cell_type": "code",
   "execution_count": 13,
   "id": "c207ff95-006f-4773-ab6f-58ede7476f6f",
   "metadata": {},
   "outputs": [
    {
     "name": "stdout",
     "output_type": "stream",
     "text": [
      "Epoch 0: 3.7181906700134277 0.027439024299383163\n",
      "Epoch 50: 3.6692161560058594 0.08231707662343979\n",
      "Epoch 100: 3.5983424186706543 0.1148374006152153\n",
      "Epoch 150: 3.452941417694092 0.19105690717697144\n",
      "Epoch 200: 3.0979628562927246 0.35060974955558777\n",
      "Epoch 250: 2.4387757778167725 0.5254064798355103\n",
      "Epoch 300: 1.639309048652649 0.875\n",
      "Epoch 350: 0.9235301613807678 0.9969512224197388\n",
      "Epoch 400: 0.4849703311920166 1.0\n",
      "Epoch 450: 0.2659037709236145 0.9979674816131592\n",
      "Epoch 500: 0.15943840146064758 0.9979674816131592\n",
      "Epoch 550: 0.10495038330554962 0.9979674816131592\n",
      "Epoch 600: 0.07467368990182877 0.9979674816131592\n",
      "Epoch 650: 0.0564165897667408 0.9979674816131592\n",
      "Epoch 700: 0.044597066938877106 1.0\n",
      "Epoch 750: 0.03647752106189728 1.0\n",
      "Epoch 800: 0.030633097514510155 1.0\n",
      "Epoch 850: 0.0262655857950449 1.0\n",
      "Epoch 900: 0.02289625070989132 1.0\n",
      "Epoch 950: 0.020228253677487373 1.0\n"
     ]
    }
   ],
   "source": [
    "train_accuracy = []\n",
    "test_accuracy = []\n",
    "\n",
    "epochs = 1000\n",
    "for epoch in range(epochs):\n",
    "    classifier.train()\n",
    "    preds = classifier(X_train)\n",
    "    loss = loss_fn(preds, y_train)\n",
    "\n",
    "    optimizer.zero_grad()\n",
    "    loss.backward()\n",
    "    optimizer.step()\n",
    "    \n",
    "    train_accuracy.append(accuracy_fn(classifier(X_train), y_train.argmax(dim=-1)).item())\n",
    "    \n",
    "    classifier.eval()\n",
    "    with torch.inference_mode():\n",
    "        test_accuracy.append(accuracy_fn(classifier(X_test), y_test.argmax(dim=-1)).item())\n",
    "\n",
    "    if epoch % 50 == 0:\n",
    "        print(f\"Epoch {epoch}: {loss} {test_accuracy[-1]}\")"
   ]
  },
  {
   "cell_type": "code",
   "execution_count": 14,
   "id": "39c9dc33-32b6-4218-b3b8-dd9c4ec28774",
   "metadata": {},
   "outputs": [
    {
     "data": {
      "image/png": "[encoded data removed]",
      "text/plain": [
       "<Figure size 640x480 with 1 Axes>"
      ]
     },
     "metadata": {},
     "output_type": "display_data"
    }
   ],
   "source": [
    "plt.title(\"Model Performance\")\n",
    "plt.plot([i for i in range(epochs)], train_accuracy, label='train_acc')\n",
    "plt.plot([i for i in range(epochs)], test_accuracy, label='test_acc')\n",
    "plt.legend()\n",
    "plt.show()\n"
   ]
  },
  {
   "cell_type": "code",
   "execution_count": 15,
   "id": "446e3730-ddb1-482e-a604-5937df75f61e",
   "metadata": {},
   "outputs": [
    {
     "data": {
      "text/plain": [
       "SymptomClassifier(\n",
       "  (model): Sequential(\n",
       "    (0): Linear(in_features=131, out_features=128, bias=True)\n",
       "    (1): ReLU()\n",
       "    (2): Linear(in_features=128, out_features=64, bias=True)\n",
       "    (3): ReLU()\n",
       "    (4): Linear(in_features=64, out_features=41, bias=True)\n",
       "  )\n",
       ")"
      ]
     },
     "execution_count": 15,
     "metadata": {},
     "output_type": "execute_result"
    }
   ],
   "source": [
    "torch.save(classifier.state_dict(), \"symptom_model_weights.pth\")\n",
    "loaded_model = SymptomClassifier(input_size=data.shape[1], num_classes=labels.shape[1])\n",
    "loaded_model.load_state_dict(torch.load(\"symptom_model_weights.pth\"))\n",
    "loaded_model.eval()"
   ]
  },
  {
   "cell_type": "code",
   "execution_count": 16,
   "id": "2c253b2f-0754-4beb-9f6b-89720a64a7ec",
   "metadata": {},
   "outputs": [],
   "source": [
    "def predict_disease(symptom_list, model, symptom_index_map, disease_list):\n",
    "    # Create zero input vector for symptoms\n",
    "    input_vector = np.zeros(len(symptom_index_map), dtype=np.float32)\n",
    "\n",
    "    # Mark symptoms present\n",
    "    for symptom in symptom_list:\n",
    "        if symptom in symptom_index_map:\n",
    "            idx = symptom_index_map[symptom]\n",
    "            input_vector[idx] = 1.0\n",
    "        else:\n",
    "            print(f\"Warning: '{symptom}' not in symptom list\")\n",
    "\n",
    "    # Convert to tensor and add batch dimension\n",
    "    input_tensor = torch.tensor(input_vector).unsqueeze(0)  # shape [1, num_symptoms]\n",
    "\n",
    "    # Move tensor to model's device (CPU or GPU)\n",
    "    device = next(model.parameters()).device\n",
    "    input_tensor = input_tensor.to(device)\n",
    "\n",
    "    # Predict\n",
    "    model.eval()\n",
    "    with torch.no_grad():\n",
    "        output = model(input_tensor)  # shape [1, num_diseases]\n",
    "        predicted_index = torch.argmax(output, dim=1).item()\n",
    "\n",
    "    return disease_list[predicted_index]\n"
   ]
  },
  {
   "cell_type": "code",
   "execution_count": 17,
   "id": "201bc719-0c98-4be1-a018-fb8122264948",
   "metadata": {},
   "outputs": [
    {
     "name": "stdout",
     "output_type": "stream",
     "text": [
      "Predicted disease: Malaria\n"
     ]
    }
   ],
   "source": [
    "symptoms_array = [\n",
    "    \"chills\",\n",
    "    \"vomiting\",\n",
    "    \"high_fever\",\n",
    "    \"sweating\",\n",
    "    \"headache\",\n",
    "    \"nausea\",\n",
    "    \"muscle_pain\"\n",
    "]\n",
    "\n",
    "predicted = predict_disease(symptoms_array, classifier, symptom_indexes, diseases)\n",
    "print(f\"Predicted disease: {predicted}\")"
   ]
  }
 ],
 "metadata": {
  "kernelspec": {
   "display_name": "tfkernel",
   "language": "python",
   "name": "tfkernel"
  },
  "language_info": {
   "codemirror_mode": {
    "name": "ipython",
    "version": 3
   },
   "file_extension": ".py",
   "mimetype": "text/x-python",
   "name": "python",
   "nbconvert_exporter": "python",
   "pygments_lexer": "ipython3",
   "version": "3.13.5"
  }
 },
 "nbformat": 4,
 "nbformat_minor": 5
}
